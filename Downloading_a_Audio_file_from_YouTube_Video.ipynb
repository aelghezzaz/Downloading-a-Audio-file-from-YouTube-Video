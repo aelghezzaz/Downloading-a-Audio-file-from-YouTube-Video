{
  "nbformat": 4,
  "nbformat_minor": 0,
  "metadata": {
    "colab": {
      "provenance": []
    },
    "kernelspec": {
      "name": "python3",
      "display_name": "Python 3"
    },
    "language_info": {
      "name": "python"
    }
  },
  "cells": [
    {
      "cell_type": "code",
      "execution_count": 11,
      "metadata": {
        "colab": {
          "base_uri": "https://localhost:8080/"
        },
        "id": "YrWIt4AgQCUC",
        "outputId": "2020184d-38a9-4f5f-9481-15d9991f45cc"
      },
      "outputs": [
        {
          "output_type": "stream",
          "name": "stdout",
          "text": [
            "Collecting pytube\n",
            "  Downloading pytube-15.0.0-py3-none-any.whl (57 kB)\n",
            "\u001b[?25l     \u001b[90m━━━━━━━━━━━━━━━━━━━━━━━━━━━━━━━━━━━━━━━━\u001b[0m \u001b[32m0.0/57.6 kB\u001b[0m \u001b[31m?\u001b[0m eta \u001b[36m-:--:--\u001b[0m\r\u001b[2K     \u001b[90m━━━━━━━━━━━━━━━━━━━━━━━━━━━━━━━━━━━━━━━━\u001b[0m \u001b[32m57.6/57.6 kB\u001b[0m \u001b[31m2.2 MB/s\u001b[0m eta \u001b[36m0:00:00\u001b[0m\n",
            "\u001b[?25hInstalling collected packages: pytube\n",
            "Successfully installed pytube-15.0.0\n"
          ]
        }
      ],
      "source": [
        "!pip install pytube\n"
      ]
    },
    {
      "cell_type": "code",
      "source": [
        "from pytube import YouTube\n",
        "\n",
        "# Prompt the user to enter a video URL\n",
        "url = input('Enter a Video URL to Download Audio: ')\n",
        "\n",
        "# Create a YouTube object\n",
        "yt = YouTube(url)\n",
        "\n",
        "# Filter audio streams and download the first one\n",
        "audio_stream = yt.streams.filter(only_audio=True).first()\n",
        "\n",
        "# Define a download path (optional, you can specify a path or leave it empty for current directory)\n",
        "download_path = ''\n",
        "\n",
        "# Download the audio stream\n",
        "audio_stream.download(output_path=download_path)\n",
        "\n",
        "print(\"Download completed!\")\n"
      ],
      "metadata": {
        "colab": {
          "base_uri": "https://localhost:8080/"
        },
        "id": "8fnSjKvtRmNk",
        "outputId": "903c86dd-74ca-43a0-ab87-7b283f137733"
      },
      "execution_count": 12,
      "outputs": [
        {
          "output_type": "stream",
          "name": "stdout",
          "text": [
            "Enter a Video URL to Download Audio: https://www.youtube.com/watch?v=ErhIP8qN3sc\n",
            "Download completed!\n"
          ]
        }
      ]
    }
  ]
}